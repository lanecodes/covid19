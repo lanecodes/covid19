{
 "cells": [
  {
   "cell_type": "markdown",
   "metadata": {},
   "source": [
    "# Logisitc and exponential growth models of UK Covid-19 confirmed cases data\n",
    "\n",
    "Date: 2020-04-16\n",
    "\n",
    "Author: Andrew Lane\n",
    "\n",
    "DISCLAIMER: I am not an epidemiologist or doctor. Just an curious guy with a laptop and access to some data. Do not use the contents of this notebook for anything."
   ]
  },
  {
   "cell_type": "code",
   "execution_count": 1,
   "metadata": {},
   "outputs": [],
   "source": [
    "from dataclasses import dataclass\n",
    "\n",
    "import numpy as np\n",
    "import pandas as pd\n",
    "\n",
    "import matplotlib\n",
    "import matplotlib.pyplot as plt\n",
    "%matplotlib inline\n",
    "\n",
    "import sklearn\n",
    "from sklearn.metrics import r2_score\n",
    "from sklearn.linear_model import LinearRegression\n",
    "from scipy.optimize import curve_fit\n",
    "\n",
    "\n",
    "font = {'size'   : 14}\n",
    "matplotlib.rc('font', **font)"
   ]
  },
  {
   "cell_type": "markdown",
   "metadata": {},
   "source": [
    "## Prepare data"
   ]
  },
  {
   "cell_type": "markdown",
   "metadata": {},
   "source": [
    "The data used in this notebook come from a collated source on [GitHub](https://github.com/tomwhite/covid-19-uk-data)"
   ]
  },
  {
   "cell_type": "code",
   "execution_count": 2,
   "metadata": {},
   "outputs": [],
   "source": [
    "SRC_DATA = (\"https://raw.githubusercontent.com/tomwhite/covid-19-uk-data\"\n",
    "            \"/master/data/covid-19-totals-uk.csv\")\n",
    "\n",
    "UK_POP = 63182000"
   ]
  },
  {
   "cell_type": "code",
   "execution_count": 3,
   "metadata": {},
   "outputs": [],
   "source": [
    "df = (\n",
    "    pd.read_csv(SRC_DATA)\n",
    "    .assign(date=lambda df: pd.to_datetime(df['Date']))\n",
    "    .drop(columns='Date')\n",
    "    .set_index('date')\n",
    ")\n",
    "\n",
    "assert df.index.is_unique"
   ]
  },
  {
   "cell_type": "code",
   "execution_count": 4,
   "metadata": {},
   "outputs": [
    {
     "data": {
      "text/html": [
       "<div>\n",
       "<style scoped>\n",
       "    .dataframe tbody tr th:only-of-type {\n",
       "        vertical-align: middle;\n",
       "    }\n",
       "\n",
       "    .dataframe tbody tr th {\n",
       "        vertical-align: top;\n",
       "    }\n",
       "\n",
       "    .dataframe thead th {\n",
       "        text-align: right;\n",
       "    }\n",
       "</style>\n",
       "<table border=\"1\" class=\"dataframe\">\n",
       "  <thead>\n",
       "    <tr style=\"text-align: right;\">\n",
       "      <th></th>\n",
       "      <th>Tests</th>\n",
       "      <th>ConfirmedCases</th>\n",
       "      <th>Deaths</th>\n",
       "    </tr>\n",
       "    <tr>\n",
       "      <th>date</th>\n",
       "      <th></th>\n",
       "      <th></th>\n",
       "      <th></th>\n",
       "    </tr>\n",
       "  </thead>\n",
       "  <tbody>\n",
       "    <tr>\n",
       "      <th>2020-01-25</th>\n",
       "      <td>31</td>\n",
       "      <td>0</td>\n",
       "      <td>0</td>\n",
       "    </tr>\n",
       "    <tr>\n",
       "      <th>2020-01-26</th>\n",
       "      <td>52</td>\n",
       "      <td>0</td>\n",
       "      <td>0</td>\n",
       "    </tr>\n",
       "    <tr>\n",
       "      <th>2020-01-27</th>\n",
       "      <td>73</td>\n",
       "      <td>0</td>\n",
       "      <td>0</td>\n",
       "    </tr>\n",
       "    <tr>\n",
       "      <th>2020-01-28</th>\n",
       "      <td>97</td>\n",
       "      <td>0</td>\n",
       "      <td>0</td>\n",
       "    </tr>\n",
       "    <tr>\n",
       "      <th>2020-01-29</th>\n",
       "      <td>130</td>\n",
       "      <td>0</td>\n",
       "      <td>0</td>\n",
       "    </tr>\n",
       "    <tr>\n",
       "      <th>2020-01-30</th>\n",
       "      <td>161</td>\n",
       "      <td>0</td>\n",
       "      <td>0</td>\n",
       "    </tr>\n",
       "    <tr>\n",
       "      <th>2020-01-31</th>\n",
       "      <td>177</td>\n",
       "      <td>2</td>\n",
       "      <td>0</td>\n",
       "    </tr>\n",
       "    <tr>\n",
       "      <th>2020-02-01</th>\n",
       "      <td>203</td>\n",
       "      <td>2</td>\n",
       "      <td>0</td>\n",
       "    </tr>\n",
       "    <tr>\n",
       "      <th>2020-02-02</th>\n",
       "      <td>266</td>\n",
       "      <td>2</td>\n",
       "      <td>0</td>\n",
       "    </tr>\n",
       "    <tr>\n",
       "      <th>2020-02-03</th>\n",
       "      <td>326</td>\n",
       "      <td>2</td>\n",
       "      <td>0</td>\n",
       "    </tr>\n",
       "  </tbody>\n",
       "</table>\n",
       "</div>"
      ],
      "text/plain": [
       "            Tests  ConfirmedCases  Deaths\n",
       "date                                     \n",
       "2020-01-25     31               0       0\n",
       "2020-01-26     52               0       0\n",
       "2020-01-27     73               0       0\n",
       "2020-01-28     97               0       0\n",
       "2020-01-29    130               0       0\n",
       "2020-01-30    161               0       0\n",
       "2020-01-31    177               2       0\n",
       "2020-02-01    203               2       0\n",
       "2020-02-02    266               2       0\n",
       "2020-02-03    326               2       0"
      ]
     },
     "execution_count": 4,
     "metadata": {},
     "output_type": "execute_result"
    }
   ],
   "source": [
    "df.head(10)"
   ]
  },
  {
   "cell_type": "markdown",
   "metadata": {},
   "source": [
    "Consider dates from the first confirmed case"
   ]
  },
  {
   "cell_type": "code",
   "execution_count": 5,
   "metadata": {},
   "outputs": [],
   "source": [
    "df = df.loc['2020-01-31':]"
   ]
  },
  {
   "cell_type": "markdown",
   "metadata": {},
   "source": [
    "Create a column `NumDaysSinceFirstCase` to report number of days since first confirmed case"
   ]
  },
  {
   "cell_type": "code",
   "execution_count": 6,
   "metadata": {},
   "outputs": [
    {
     "data": {
      "text/plain": [
       "<matplotlib.axes._subplots.AxesSubplot at 0x7f2fe8743860>"
      ]
     },
     "execution_count": 6,
     "metadata": {},
     "output_type": "execute_result"
    },
    {
     "data": {
      "image/png": "[encoded data removed]",
      "text/plain": [
       "<Figure size 432x288 with 1 Axes>"
      ]
     },
     "metadata": {
      "needs_background": "light"
     },
     "output_type": "display_data"
    }
   ],
   "source": [
    "df = df.assign(NumDaysSinceFirstCase=range(len(df.index)))\n",
    "df.plot.scatter(x='NumDaysSinceFirstCase', y='ConfirmedCases')"
   ]
  },
  {
   "cell_type": "markdown",
   "metadata": {},
   "source": [
    "## Fit logistic growth model"
   ]
  },
  {
   "cell_type": "markdown",
   "metadata": {},
   "source": [
    "Logistic function is defined by\n",
    "\n",
    "$f(x) = \\frac{a}{1 + e^{-k(x - x_0)}}$.\n",
    "\n",
    "Our implementation:"
   ]
  },
  {
   "cell_type": "code",
   "execution_count": 7,
   "metadata": {},
   "outputs": [],
   "source": [
    "def logistic_func(x: float, x0: float, a: float, k: float) -> float:\n",
    "    \"\"\"Logistic function.\n",
    "    \n",
    "    f(x) = \\frac{a}{1 + e^{-k(x - x_0)}}\n",
    "    \n",
    "    Parameters\n",
    "    ----------\n",
    "    x0: x value of sigmoid midpoint\n",
    "    a: curve's maximum value\n",
    "    k: logistic growth rate\n",
    "    \"\"\"\n",
    "    return a / (1 + np.exp(-k * (x - x0)))\n",
    "\n",
    "logistic_func_v = np.vectorize(logistic_func, excluded=['x0', 'a', 'k'])"
   ]
  },
  {
   "cell_type": "markdown",
   "metadata": {},
   "source": [
    "Test implementation of logistic function by checking a plot made using the function looks correct. We expect midpoint of curve to be at x=50 and the maximum point to be 5."
   ]
  },
  {
   "cell_type": "code",
   "execution_count": 8,
   "metadata": {},
   "outputs": [
    {
     "data": {
      "text/plain": [
       "[<matplotlib.lines.Line2D at 0x7f2fe863db00>]"
      ]
     },
     "execution_count": 8,
     "metadata": {},
     "output_type": "execute_result"
    },
    {
     "data": {
      "image/png": "[encoded data removed]",
      "text/plain": [
       "<Figure size 432x288 with 1 Axes>"
      ]
     },
     "metadata": {
      "needs_background": "light"
     },
     "output_type": "display_data"
    }
   ],
   "source": [
    "xx = np.linspace(0, 100)\n",
    "yy = logistic_func_v(xx, x0=50, a=5, k=0.2)\n",
    "plt.plot(xx, yy)"
   ]
  },
  {
   "cell_type": "markdown",
   "metadata": {},
   "source": [
    "Find optimal model parameters to fit logistic growth model to predict the number of confirmed cases given the number of days since the first case."
   ]
  },
  {
   "cell_type": "code",
   "execution_count": 9,
   "metadata": {},
   "outputs": [
    {
     "name": "stdout",
     "output_type": "stream",
     "text": [
      "x0_opt:  68.90895413655875\n",
      "a_opt:  133844.1206186678\n",
      "k_opt:  0.1656379602626532\n"
     ]
    }
   ],
   "source": [
    "(x0_opt, a_opt, k_opt), _ = curve_fit(logistic_func,\n",
    "                                      df['NumDaysSinceFirstCase'],\n",
    "                                      df['ConfirmedCases'])\n",
    "print('x0_opt: ', x0_opt)\n",
    "print('a_opt: ', a_opt)\n",
    "print('k_opt: ', k_opt)"
   ]
  },
  {
   "cell_type": "markdown",
   "metadata": {},
   "source": [
    "The above results indicate the best fit logistic growth model has the midpoint of the curve (the 'peak') being at 69 days after 2020-01-31, i.e 2020-04-09. It suggests the final number of infections will be 13,3844, and the logistic growth rate is 0.166."
   ]
  },
  {
   "cell_type": "markdown",
   "metadata": {},
   "source": [
    "Calculate values based on logistic growth model and plot against observed data"
   ]
  },
  {
   "cell_type": "code",
   "execution_count": 10,
   "metadata": {},
   "outputs": [],
   "source": [
    "df = df.assign(logistic_model=lambda df: (\n",
    "    logistic_func_v(df['NumDaysSinceFirstCase'], x0_opt, a_opt, k_opt)))"
   ]
  },
  {
   "cell_type": "code",
   "execution_count": 11,
   "metadata": {},
   "outputs": [
    {
     "data": {
      "image/png": "[encoded data removed]",
      "text/plain": [
       "<Figure size 504x288 with 1 Axes>"
      ]
     },
     "metadata": {
      "needs_background": "light"
     },
     "output_type": "display_data"
    }
   ],
   "source": [
    "fig, ax = plt.subplots(figsize=(7, 4))\n",
    "df[['ConfirmedCases', 'logistic_model']].plot(ax=ax, style=['.', '-'])\n",
    "ax.set_ylabel('Cumulative number of\\nCovid-19 cases');\n",
    "ax.spines['right'].set_visible(False)\n",
    "ax.spines['top'].set_visible(False)\n",
    "ax.set_xlabel(None);"
   ]
  },
  {
   "cell_type": "markdown",
   "metadata": {},
   "source": [
    "The fit looks good. As this is not a linear model we can't report an $r^2$ value, so we report root mean square error ([RMSE](https://en.wikipedia.org/wiki/Root-mean-square_deviation)) instead."
   ]
  },
  {
   "cell_type": "code",
   "execution_count": 12,
   "metadata": {},
   "outputs": [],
   "source": [
    "def rmse(data: np.array, model: np.array) -> float:\n",
    "    return np.sqrt(np.power(data - model, 2).sum() / data.size)"
   ]
  },
  {
   "cell_type": "code",
   "execution_count": 13,
   "metadata": {},
   "outputs": [
    {
     "name": "stdout",
     "output_type": "stream",
     "text": [
      "RMSE for logistic growth model is 721.277752, or 0.0011% of the UK population.\n"
     ]
    }
   ],
   "source": [
    "error = rmse(data=df['ConfirmedCases'].values,\n",
    "             model=df['logistic_model'].values)\n",
    "\n",
    "print(f'RMSE for logistic growth model is {round(error, 6)}, '\n",
    "      f'or {round(error / UK_POP, 6) * 100}% of the UK population.')"
   ]
  },
  {
   "cell_type": "code",
   "execution_count": 14,
   "metadata": {},
   "outputs": [
    {
     "name": "stdout",
     "output_type": "stream",
     "text": [
      "New cases on 16th April:  4617\n"
     ]
    }
   ],
   "source": [
    "print('New cases on 16th April: ', int(df['ConfirmedCases'].diff().loc['2020-04-16']))"
   ]
  },
  {
   "cell_type": "markdown",
   "metadata": {},
   "source": [
    "An RMSE of 721 seems quite large given the apparent goodness of fit. However, considering that the number of new cases on 16th April was 4617, an RMSE of ~16% of a day's change may not be too bad.\n",
    "\n",
    "TODO: Read about model evaluation for logistic growth models. I suspect there is a better metric than RMSE."
   ]
  },
  {
   "cell_type": "markdown",
   "metadata": {},
   "source": [
    "# Fit exponential growth model\n",
    "\n",
    "Given the logistic growth model suggests the midpoint of the curve, and therefore the maximum slope, will occur on 9th April, any exponential growth should be expected to end before that point.\n",
    "\n",
    "The expression for exponential growth is [given by][wiki-exp-growth]\n",
    "\n",
    "$$x(t) = x_0 \\, (1 + r_{\\tau})^{t/\\tau}$$\n",
    "where $r_{\\tau}$ is the proportion by which $x$ increases in a time step of duration $\\tau$. Setting $\\tau = 1 \\text{ day}$ and $r = r_{1 \\text{ day}}$ we have\n",
    "\n",
    "$$x(t) = x_0 \\, (1 + r)^t$$\n",
    "where $t$ is the number of days since the initial count taken at $x_0$. Taking logarithms of the above equation we can reformulate exponential growth as log-linear growth:\n",
    "\n",
    "$$\\log x(t) = \\log x_0 + t \\, \\log(1 + r)\\,.$$\n",
    "Viewing the model like this, we see that exponential growth will appear as a straight line on a log-linear plot. That line's y-intercept will equal $\\log x_0$, and its slope $\\log(1 + r)$.\n",
    "\n",
    "[wiki-exp-growth]: https://en.wikipedia.org/wiki/Exponential_growth#Basic_formula"
   ]
  },
  {
   "cell_type": "markdown",
   "metadata": {},
   "source": [
    "Plot the UK confirmed cases data on log-linear axes to acertain if there is a period demonstrating exponential growth"
   ]
  },
  {
   "cell_type": "code",
   "execution_count": 15,
   "metadata": {},
   "outputs": [
    {
     "data": {
      "image/png": "[encoded data removed]",
      "text/plain": [
       "<Figure size 504x288 with 1 Axes>"
      ]
     },
     "metadata": {
      "needs_background": "light"
     },
     "output_type": "display_data"
    }
   ],
   "source": [
    "fig, ax = plt.subplots(figsize=(7, 4))\n",
    "df.assign(log_cases=lambda df: np.log(df['ConfirmedCases']))['log_cases'].plot(ax=ax)\n",
    "ax.spines['right'].set_visible(False)\n",
    "ax.spines['top'].set_visible(False)"
   ]
  },
  {
   "cell_type": "markdown",
   "metadata": {},
   "source": [
    "It looks to me like we saw exponential growth for the duration of March. The behaviour before the beginning of March is curious, but I don't have enough information to comment on why there appears to have been a plateau in mid-February. In any case we exclude dates before March as they don't correspond to the expected exponential growth pattern."
   ]
  },
  {
   "cell_type": "code",
   "execution_count": 16,
   "metadata": {},
   "outputs": [],
   "source": [
    "df_exp_growth = df['2020-03-01':'2020-03-31']"
   ]
  },
  {
   "cell_type": "code",
   "execution_count": 17,
   "metadata": {},
   "outputs": [
    {
     "data": {
      "text/html": [
       "<div>\n",
       "<style scoped>\n",
       "    .dataframe tbody tr th:only-of-type {\n",
       "        vertical-align: middle;\n",
       "    }\n",
       "\n",
       "    .dataframe tbody tr th {\n",
       "        vertical-align: top;\n",
       "    }\n",
       "\n",
       "    .dataframe thead th {\n",
       "        text-align: right;\n",
       "    }\n",
       "</style>\n",
       "<table border=\"1\" class=\"dataframe\">\n",
       "  <thead>\n",
       "    <tr style=\"text-align: right;\">\n",
       "      <th></th>\n",
       "      <th>Tests</th>\n",
       "      <th>ConfirmedCases</th>\n",
       "      <th>Deaths</th>\n",
       "      <th>NumDaysSinceFirstCase</th>\n",
       "      <th>logistic_model</th>\n",
       "    </tr>\n",
       "    <tr>\n",
       "      <th>date</th>\n",
       "      <th></th>\n",
       "      <th></th>\n",
       "      <th></th>\n",
       "      <th></th>\n",
       "      <th></th>\n",
       "    </tr>\n",
       "  </thead>\n",
       "  <tbody>\n",
       "    <tr>\n",
       "      <th>2020-03-01</th>\n",
       "      <td>11750</td>\n",
       "      <td>35</td>\n",
       "      <td>0</td>\n",
       "      <td>30</td>\n",
       "      <td>212.309225</td>\n",
       "    </tr>\n",
       "    <tr>\n",
       "      <th>2020-03-02</th>\n",
       "      <td>13525</td>\n",
       "      <td>40</td>\n",
       "      <td>0</td>\n",
       "      <td>31</td>\n",
       "      <td>250.484256</td>\n",
       "    </tr>\n",
       "    <tr>\n",
       "      <th>2020-03-03</th>\n",
       "      <td>13911</td>\n",
       "      <td>51</td>\n",
       "      <td>0</td>\n",
       "      <td>32</td>\n",
       "      <td>295.508307</td>\n",
       "    </tr>\n",
       "    <tr>\n",
       "      <th>2020-03-04</th>\n",
       "      <td>16659</td>\n",
       "      <td>85</td>\n",
       "      <td>0</td>\n",
       "      <td>33</td>\n",
       "      <td>348.604225</td>\n",
       "    </tr>\n",
       "    <tr>\n",
       "      <th>2020-03-05</th>\n",
       "      <td>18083</td>\n",
       "      <td>114</td>\n",
       "      <td>0</td>\n",
       "      <td>34</td>\n",
       "      <td>411.210860</td>\n",
       "    </tr>\n",
       "  </tbody>\n",
       "</table>\n",
       "</div>"
      ],
      "text/plain": [
       "            Tests  ConfirmedCases  Deaths  NumDaysSinceFirstCase  \\\n",
       "date                                                               \n",
       "2020-03-01  11750              35       0                     30   \n",
       "2020-03-02  13525              40       0                     31   \n",
       "2020-03-03  13911              51       0                     32   \n",
       "2020-03-04  16659              85       0                     33   \n",
       "2020-03-05  18083             114       0                     34   \n",
       "\n",
       "            logistic_model  \n",
       "date                        \n",
       "2020-03-01      212.309225  \n",
       "2020-03-02      250.484256  \n",
       "2020-03-03      295.508307  \n",
       "2020-03-04      348.604225  \n",
       "2020-03-05      411.210860  "
      ]
     },
     "execution_count": 17,
     "metadata": {},
     "output_type": "execute_result"
    }
   ],
   "source": [
    "df_exp_growth.head()"
   ]
  },
  {
   "cell_type": "markdown",
   "metadata": {},
   "source": [
    "Create a new column containing $\\log(\\text{ConfirmedCases})$"
   ]
  },
  {
   "cell_type": "code",
   "execution_count": 18,
   "metadata": {},
   "outputs": [],
   "source": [
    "df_exp_growth = (\n",
    "    df_exp_growth.assign(log_ConfirmedCases=lambda df: (\n",
    "        np.log(df['ConfirmedCases'])))\n",
    ")"
   ]
  },
  {
   "cell_type": "code",
   "execution_count": 19,
   "metadata": {},
   "outputs": [
    {
     "data": {
      "text/html": [
       "<div>\n",
       "<style scoped>\n",
       "    .dataframe tbody tr th:only-of-type {\n",
       "        vertical-align: middle;\n",
       "    }\n",
       "\n",
       "    .dataframe tbody tr th {\n",
       "        vertical-align: top;\n",
       "    }\n",
       "\n",
       "    .dataframe thead th {\n",
       "        text-align: right;\n",
       "    }\n",
       "</style>\n",
       "<table border=\"1\" class=\"dataframe\">\n",
       "  <thead>\n",
       "    <tr style=\"text-align: right;\">\n",
       "      <th></th>\n",
       "      <th>Tests</th>\n",
       "      <th>ConfirmedCases</th>\n",
       "      <th>Deaths</th>\n",
       "      <th>NumDaysSinceFirstCase</th>\n",
       "      <th>logistic_model</th>\n",
       "      <th>log_ConfirmedCases</th>\n",
       "    </tr>\n",
       "    <tr>\n",
       "      <th>date</th>\n",
       "      <th></th>\n",
       "      <th></th>\n",
       "      <th></th>\n",
       "      <th></th>\n",
       "      <th></th>\n",
       "      <th></th>\n",
       "    </tr>\n",
       "  </thead>\n",
       "  <tbody>\n",
       "    <tr>\n",
       "      <th>2020-03-01</th>\n",
       "      <td>11750</td>\n",
       "      <td>35</td>\n",
       "      <td>0</td>\n",
       "      <td>30</td>\n",
       "      <td>212.309225</td>\n",
       "      <td>3.555348</td>\n",
       "    </tr>\n",
       "    <tr>\n",
       "      <th>2020-03-02</th>\n",
       "      <td>13525</td>\n",
       "      <td>40</td>\n",
       "      <td>0</td>\n",
       "      <td>31</td>\n",
       "      <td>250.484256</td>\n",
       "      <td>3.688879</td>\n",
       "    </tr>\n",
       "    <tr>\n",
       "      <th>2020-03-03</th>\n",
       "      <td>13911</td>\n",
       "      <td>51</td>\n",
       "      <td>0</td>\n",
       "      <td>32</td>\n",
       "      <td>295.508307</td>\n",
       "      <td>3.931826</td>\n",
       "    </tr>\n",
       "    <tr>\n",
       "      <th>2020-03-04</th>\n",
       "      <td>16659</td>\n",
       "      <td>85</td>\n",
       "      <td>0</td>\n",
       "      <td>33</td>\n",
       "      <td>348.604225</td>\n",
       "      <td>4.442651</td>\n",
       "    </tr>\n",
       "    <tr>\n",
       "      <th>2020-03-05</th>\n",
       "      <td>18083</td>\n",
       "      <td>114</td>\n",
       "      <td>0</td>\n",
       "      <td>34</td>\n",
       "      <td>411.210860</td>\n",
       "      <td>4.736198</td>\n",
       "    </tr>\n",
       "  </tbody>\n",
       "</table>\n",
       "</div>"
      ],
      "text/plain": [
       "            Tests  ConfirmedCases  Deaths  NumDaysSinceFirstCase  \\\n",
       "date                                                               \n",
       "2020-03-01  11750              35       0                     30   \n",
       "2020-03-02  13525              40       0                     31   \n",
       "2020-03-03  13911              51       0                     32   \n",
       "2020-03-04  16659              85       0                     33   \n",
       "2020-03-05  18083             114       0                     34   \n",
       "\n",
       "            logistic_model  log_ConfirmedCases  \n",
       "date                                            \n",
       "2020-03-01      212.309225            3.555348  \n",
       "2020-03-02      250.484256            3.688879  \n",
       "2020-03-03      295.508307            3.931826  \n",
       "2020-03-04      348.604225            4.442651  \n",
       "2020-03-05      411.210860            4.736198  "
      ]
     },
     "execution_count": 19,
     "metadata": {},
     "output_type": "execute_result"
    }
   ],
   "source": [
    "df_exp_growth.head()"
   ]
  },
  {
   "cell_type": "markdown",
   "metadata": {},
   "source": [
    "Perform linear regression on the logged dependent variable"
   ]
  },
  {
   "cell_type": "code",
   "execution_count": 20,
   "metadata": {},
   "outputs": [],
   "source": [
    "reg = LinearRegression().fit(\n",
    "    df_exp_growth['NumDaysSinceFirstCase'].values.reshape(-1, 1),\n",
    "    df_exp_growth['log_ConfirmedCases'].values\n",
    ")"
   ]
  },
  {
   "cell_type": "markdown",
   "metadata": {},
   "source": [
    "The linear model's intercept is $\\log x_0$, and the slope (i.e coefficient value) is $\\log(1 + r)$. Hence we find the optimal parameters as follows:"
   ]
  },
  {
   "cell_type": "code",
   "execution_count": 21,
   "metadata": {},
   "outputs": [],
   "source": [
    "x0_opt = np.exp(reg.intercept_)\n",
    "r_opt = np.exp(reg.coef_[0]) - 1"
   ]
  },
  {
   "cell_type": "code",
   "execution_count": 30,
   "metadata": {},
   "outputs": [
    {
     "name": "stdout",
     "output_type": "stream",
     "text": [
      "Optimal x0: 0.063\n",
      "Optimal r: 0.248\n"
     ]
    }
   ],
   "source": [
    "print(f'Optimal x0: {round(x0_opt, 3)}\\nOptimal r: {round(r_opt, 3)}')"
   ]
  },
  {
   "cell_type": "markdown",
   "metadata": {},
   "source": [
    "I.e. from the optimal exponential growth model we infer that the number of infections increased at a rate of 25% per day."
   ]
  },
  {
   "cell_type": "code",
   "execution_count": 22,
   "metadata": {},
   "outputs": [],
   "source": [
    "def exp_func(t: float, x0: float, r: float) -> float:\n",
    "    return x0 * np.power((1 + r), t)\n",
    "\n",
    "exp_func_v = np.vectorize(exp_func, excluded=['x0', 'r'])"
   ]
  },
  {
   "cell_type": "code",
   "execution_count": 23,
   "metadata": {},
   "outputs": [],
   "source": [
    "log_yy_true = np.log10(df_exp_growth['ConfirmedCases'])\n",
    "log_yy_exp_model = np.log10(x0_opt) + df_exp_growth['NumDaysSinceFirstCase'] * np.log10(r_opt + 1)\n",
    "exp_model_r2 = r2_score(log_yy_true, log_yy_exp_model)"
   ]
  },
  {
   "cell_type": "code",
   "execution_count": 24,
   "metadata": {},
   "outputs": [
    {
     "data": {
      "text/plain": [
       "0.9903149874858671"
      ]
     },
     "execution_count": 24,
     "metadata": {},
     "output_type": "execute_result"
    }
   ],
   "source": [
    "exp_model_r2"
   ]
  },
  {
   "cell_type": "markdown",
   "metadata": {},
   "source": [
    "Plot log-linear model using parameters for the exponential model"
   ]
  },
  {
   "cell_type": "code",
   "execution_count": 25,
   "metadata": {},
   "outputs": [
    {
     "data": {
      "image/png": "[encoded data removed]",
      "text/plain": [
       "<Figure size 504x288 with 1 Axes>"
      ]
     },
     "metadata": {
      "needs_background": "light"
     },
     "output_type": "display_data"
    }
   ],
   "source": [
    "fig, ax = plt.subplots(figsize=(7, 4))\n",
    "xx = df_exp_growth['NumDaysSinceFirstCase']\n",
    "ax.scatter(xx,log_yy_true)\n",
    "ax.plot(xx, log_yy_exp_model, ls='-', label='exp_model', c='g')\n",
    "ax.set_ylabel(r'$log_{10}$(Confirmed Cases)')\n",
    "ax.set_xlabel('Days since first case')\n",
    "ax.annotate(r'$r^2 = 0.99$', (50, 2.5))\n",
    "ax.spines['right'].set_visible(False)\n",
    "ax.spines['top'].set_visible(False)\n",
    "plt.legend();"
   ]
  },
  {
   "cell_type": "markdown",
   "metadata": {},
   "source": [
    "Calculate values predicted by the exponential model for each of the days in the dataset until 2020-03-31"
   ]
  },
  {
   "cell_type": "code",
   "execution_count": 26,
   "metadata": {},
   "outputs": [],
   "source": [
    "df_exp_growth = df_exp_growth.assign(exp_model=lambda df: (\n",
    "    exp_func_v(df['NumDaysSinceFirstCase'], x0_opt, r_opt)))"
   ]
  },
  {
   "cell_type": "markdown",
   "metadata": {},
   "source": [
    "Join exponential model back to original df"
   ]
  },
  {
   "cell_type": "code",
   "execution_count": 27,
   "metadata": {},
   "outputs": [],
   "source": [
    "df = df.join(df_exp_growth['exp_model'])"
   ]
  },
  {
   "cell_type": "code",
   "execution_count": 28,
   "metadata": {},
   "outputs": [
    {
     "data": {
      "image/png": "[encoded data removed]",
      "text/plain": [
       "<Figure size 504x576 with 2 Axes>"
      ]
     },
     "metadata": {
      "needs_background": "light"
     },
     "output_type": "display_data"
    }
   ],
   "source": [
    "fig, axes = plt.subplots(nrows=2, ncols=1, figsize=(7, 8), sharex=True)\n",
    "plot_df = df[['ConfirmedCases', 'logistic_model', 'exp_model']]\n",
    "plot_df.plot(ax=axes[0], style=['.', '-', '-'])\n",
    "axes[0].set_ylabel('Number of Covid-19 cases');\n",
    "axes[0].spines['right'].set_visible(False)\n",
    "axes[0].spines['top'].set_visible(False)\n",
    "axes[0].set_yscale('log')\n",
    "\n",
    "plot_df.plot(ax=axes[1], style=['.', '-', '-'])\n",
    "axes[1].set_ylabel('Number of Covid-19 cases');\n",
    "axes[1].spines['right'].set_visible(False)\n",
    "axes[1].spines['top'].set_visible(False)\n",
    "axes[1].set_ylim([0, 40000])\n",
    "axes[1].set_xlabel(None)\n",
    "\n",
    "plt.tight_layout()"
   ]
  },
  {
   "cell_type": "markdown",
   "metadata": {},
   "source": [
    "## Conclusions\n",
    "\n",
    "- Evidence for logistic growth in cumulative confirmed cases. An RMSE value of 721 people seems high, but is small compared to the total number of cases at this stage.\n",
    "- An exponential growth model fitted to the data for the period between 1st and 31st March was able to explain 99% of the variance in the data when reformulated as log-linear growth\n",
    "- Visual inspection of the exponential model fit shows the increase in cases is slower than exponential after around 26th March. The logistic growth model continues to fit the data well after this point, however.\n",
    "- Conclude that the number of Covid-19 cases in the UK grew exponentially between 1st March and 26th March.\n",
    "\n",
    "## Limitations\n",
    "- Data prior to 1st March excluded from exponential model fit due to possible artifacts in data. We should attempt to explain this.\n",
    "- We should explore better ways of quantiying goodness of fit of the exponential model which does not depend on reformulating it in log-linear space as $r^2$ does.\n",
    "- No attempt has been made to consider and represent model uncertainty/"
   ]
  }
 ],
 "metadata": {
  "kernelspec": {
   "display_name": "Python 3",
   "language": "python",
   "name": "python3"
  },
  "language_info": {
   "codemirror_mode": {
    "name": "ipython",
    "version": 3
   },
   "file_extension": ".py",
   "mimetype": "text/x-python",
   "name": "python",
   "nbconvert_exporter": "python",
   "pygments_lexer": "ipython3",
   "version": "3.7.3"
  }
 },
 "nbformat": 4,
 "nbformat_minor": 4
}
